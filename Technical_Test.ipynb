{
 "cells": [
  {
   "cell_type": "markdown",
   "metadata": {},
   "source": [
    "# Auto Insurance #"
   ]
  },
  {
   "cell_type": "markdown",
   "metadata": {},
   "source": [
    "The aim of this file is to predict the *TARGET_FLAG* variable based on auto insurance datasets given beforehand."
   ]
  },
  {
   "cell_type": "code",
   "execution_count": 1,
   "metadata": {},
   "outputs": [],
   "source": [
    "## Let's import the necessary libraries first\n",
    "\n",
    "import pandas as pd\n",
    "import numpy as np\n",
    "import matplotlib.pyplot as plt\n",
    "from IPython.display import display, HTML\n",
    "\n",
    "pd.set_option('display.max_columns', None) # To view all columns at once when looking at a dataframe"
   ]
  },
  {
   "cell_type": "code",
   "execution_count": 2,
   "metadata": {
    "scrolled": true
   },
   "outputs": [],
   "source": [
    "## Importing the data\n",
    "\n",
    "import os\n",
    "\n",
    "path = os.getcwd() # to get the current working directory\n",
    "\n",
    "train_auto = pd.read_csv(path + '\\\\Data\\\\train_auto.csv') # train data \n",
    "test_auto = pd.read_csv(path + '\\\\Data\\\\test_auto.csv') # test data (without the values for the target variables)\n",
    "\n",
    "# It seems that the files SHELL_AUTO and MEAN_AUTO are not useful as they represent examples \n",
    "# of the output files we need to generate"
   ]
  },
  {
   "cell_type": "markdown",
   "metadata": {},
   "source": [
    "### First look at the data"
   ]
  },
  {
   "cell_type": "code",
   "execution_count": 3,
   "metadata": {},
   "outputs": [
    {
     "name": "stdout",
     "output_type": "stream",
     "text": [
      "(8161, 26)\n",
      "(2141, 26)\n"
     ]
    },
    {
     "data": {
      "text/html": [
       "<div>\n",
       "<style scoped>\n",
       "    .dataframe tbody tr th:only-of-type {\n",
       "        vertical-align: middle;\n",
       "    }\n",
       "\n",
       "    .dataframe tbody tr th {\n",
       "        vertical-align: top;\n",
       "    }\n",
       "\n",
       "    .dataframe thead th {\n",
       "        text-align: right;\n",
       "    }\n",
       "</style>\n",
       "<table border=\"1\" class=\"dataframe\">\n",
       "  <thead>\n",
       "    <tr style=\"text-align: right;\">\n",
       "      <th></th>\n",
       "      <th>INDEX</th>\n",
       "      <th>TARGET_FLAG</th>\n",
       "      <th>TARGET_AMT</th>\n",
       "      <th>KIDSDRIV</th>\n",
       "      <th>AGE</th>\n",
       "      <th>HOMEKIDS</th>\n",
       "      <th>YOJ</th>\n",
       "      <th>INCOME</th>\n",
       "      <th>PARENT1</th>\n",
       "      <th>HOME_VAL</th>\n",
       "      <th>MSTATUS</th>\n",
       "      <th>SEX</th>\n",
       "      <th>EDUCATION</th>\n",
       "      <th>JOB</th>\n",
       "      <th>TRAVTIME</th>\n",
       "      <th>CAR_USE</th>\n",
       "      <th>BLUEBOOK</th>\n",
       "      <th>TIF</th>\n",
       "      <th>CAR_TYPE</th>\n",
       "      <th>RED_CAR</th>\n",
       "      <th>OLDCLAIM</th>\n",
       "      <th>CLM_FREQ</th>\n",
       "      <th>REVOKED</th>\n",
       "      <th>MVR_PTS</th>\n",
       "      <th>CAR_AGE</th>\n",
       "      <th>URBANICITY</th>\n",
       "    </tr>\n",
       "  </thead>\n",
       "  <tbody>\n",
       "    <tr>\n",
       "      <th>0</th>\n",
       "      <td>1</td>\n",
       "      <td>0</td>\n",
       "      <td>0.0</td>\n",
       "      <td>0</td>\n",
       "      <td>60.0</td>\n",
       "      <td>0</td>\n",
       "      <td>11.0</td>\n",
       "      <td>$67,349</td>\n",
       "      <td>No</td>\n",
       "      <td>$0</td>\n",
       "      <td>z_No</td>\n",
       "      <td>M</td>\n",
       "      <td>PhD</td>\n",
       "      <td>Professional</td>\n",
       "      <td>14</td>\n",
       "      <td>Private</td>\n",
       "      <td>$14,230</td>\n",
       "      <td>11</td>\n",
       "      <td>Minivan</td>\n",
       "      <td>yes</td>\n",
       "      <td>$4,461</td>\n",
       "      <td>2</td>\n",
       "      <td>No</td>\n",
       "      <td>3</td>\n",
       "      <td>18.0</td>\n",
       "      <td>Highly Urban/ Urban</td>\n",
       "    </tr>\n",
       "    <tr>\n",
       "      <th>1</th>\n",
       "      <td>2</td>\n",
       "      <td>0</td>\n",
       "      <td>0.0</td>\n",
       "      <td>0</td>\n",
       "      <td>43.0</td>\n",
       "      <td>0</td>\n",
       "      <td>11.0</td>\n",
       "      <td>$91,449</td>\n",
       "      <td>No</td>\n",
       "      <td>$257,252</td>\n",
       "      <td>z_No</td>\n",
       "      <td>M</td>\n",
       "      <td>z_High School</td>\n",
       "      <td>z_Blue Collar</td>\n",
       "      <td>22</td>\n",
       "      <td>Commercial</td>\n",
       "      <td>$14,940</td>\n",
       "      <td>1</td>\n",
       "      <td>Minivan</td>\n",
       "      <td>yes</td>\n",
       "      <td>$0</td>\n",
       "      <td>0</td>\n",
       "      <td>No</td>\n",
       "      <td>0</td>\n",
       "      <td>1.0</td>\n",
       "      <td>Highly Urban/ Urban</td>\n",
       "    </tr>\n",
       "    <tr>\n",
       "      <th>2</th>\n",
       "      <td>4</td>\n",
       "      <td>0</td>\n",
       "      <td>0.0</td>\n",
       "      <td>0</td>\n",
       "      <td>35.0</td>\n",
       "      <td>1</td>\n",
       "      <td>10.0</td>\n",
       "      <td>$16,039</td>\n",
       "      <td>No</td>\n",
       "      <td>$124,191</td>\n",
       "      <td>Yes</td>\n",
       "      <td>z_F</td>\n",
       "      <td>z_High School</td>\n",
       "      <td>Clerical</td>\n",
       "      <td>5</td>\n",
       "      <td>Private</td>\n",
       "      <td>$4,010</td>\n",
       "      <td>4</td>\n",
       "      <td>z_SUV</td>\n",
       "      <td>no</td>\n",
       "      <td>$38,690</td>\n",
       "      <td>2</td>\n",
       "      <td>No</td>\n",
       "      <td>3</td>\n",
       "      <td>10.0</td>\n",
       "      <td>Highly Urban/ Urban</td>\n",
       "    </tr>\n",
       "    <tr>\n",
       "      <th>3</th>\n",
       "      <td>5</td>\n",
       "      <td>0</td>\n",
       "      <td>0.0</td>\n",
       "      <td>0</td>\n",
       "      <td>51.0</td>\n",
       "      <td>0</td>\n",
       "      <td>14.0</td>\n",
       "      <td>NaN</td>\n",
       "      <td>No</td>\n",
       "      <td>$306,251</td>\n",
       "      <td>Yes</td>\n",
       "      <td>M</td>\n",
       "      <td>&lt;High School</td>\n",
       "      <td>z_Blue Collar</td>\n",
       "      <td>32</td>\n",
       "      <td>Private</td>\n",
       "      <td>$15,440</td>\n",
       "      <td>7</td>\n",
       "      <td>Minivan</td>\n",
       "      <td>yes</td>\n",
       "      <td>$0</td>\n",
       "      <td>0</td>\n",
       "      <td>No</td>\n",
       "      <td>0</td>\n",
       "      <td>6.0</td>\n",
       "      <td>Highly Urban/ Urban</td>\n",
       "    </tr>\n",
       "    <tr>\n",
       "      <th>4</th>\n",
       "      <td>6</td>\n",
       "      <td>0</td>\n",
       "      <td>0.0</td>\n",
       "      <td>0</td>\n",
       "      <td>50.0</td>\n",
       "      <td>0</td>\n",
       "      <td>NaN</td>\n",
       "      <td>$114,986</td>\n",
       "      <td>No</td>\n",
       "      <td>$243,925</td>\n",
       "      <td>Yes</td>\n",
       "      <td>z_F</td>\n",
       "      <td>PhD</td>\n",
       "      <td>Doctor</td>\n",
       "      <td>36</td>\n",
       "      <td>Private</td>\n",
       "      <td>$18,000</td>\n",
       "      <td>1</td>\n",
       "      <td>z_SUV</td>\n",
       "      <td>no</td>\n",
       "      <td>$19,217</td>\n",
       "      <td>2</td>\n",
       "      <td>Yes</td>\n",
       "      <td>3</td>\n",
       "      <td>17.0</td>\n",
       "      <td>Highly Urban/ Urban</td>\n",
       "    </tr>\n",
       "    <tr>\n",
       "      <th>5</th>\n",
       "      <td>7</td>\n",
       "      <td>1</td>\n",
       "      <td>2946.0</td>\n",
       "      <td>0</td>\n",
       "      <td>34.0</td>\n",
       "      <td>1</td>\n",
       "      <td>12.0</td>\n",
       "      <td>$125,301</td>\n",
       "      <td>Yes</td>\n",
       "      <td>$0</td>\n",
       "      <td>z_No</td>\n",
       "      <td>z_F</td>\n",
       "      <td>Bachelors</td>\n",
       "      <td>z_Blue Collar</td>\n",
       "      <td>46</td>\n",
       "      <td>Commercial</td>\n",
       "      <td>$17,430</td>\n",
       "      <td>1</td>\n",
       "      <td>Sports Car</td>\n",
       "      <td>no</td>\n",
       "      <td>$0</td>\n",
       "      <td>0</td>\n",
       "      <td>No</td>\n",
       "      <td>0</td>\n",
       "      <td>7.0</td>\n",
       "      <td>Highly Urban/ Urban</td>\n",
       "    </tr>\n",
       "    <tr>\n",
       "      <th>6</th>\n",
       "      <td>8</td>\n",
       "      <td>0</td>\n",
       "      <td>0.0</td>\n",
       "      <td>0</td>\n",
       "      <td>54.0</td>\n",
       "      <td>0</td>\n",
       "      <td>NaN</td>\n",
       "      <td>$18,755</td>\n",
       "      <td>No</td>\n",
       "      <td>NaN</td>\n",
       "      <td>Yes</td>\n",
       "      <td>z_F</td>\n",
       "      <td>&lt;High School</td>\n",
       "      <td>z_Blue Collar</td>\n",
       "      <td>33</td>\n",
       "      <td>Private</td>\n",
       "      <td>$8,780</td>\n",
       "      <td>1</td>\n",
       "      <td>z_SUV</td>\n",
       "      <td>no</td>\n",
       "      <td>$0</td>\n",
       "      <td>0</td>\n",
       "      <td>No</td>\n",
       "      <td>0</td>\n",
       "      <td>1.0</td>\n",
       "      <td>Highly Urban/ Urban</td>\n",
       "    </tr>\n",
       "    <tr>\n",
       "      <th>7</th>\n",
       "      <td>11</td>\n",
       "      <td>1</td>\n",
       "      <td>4021.0</td>\n",
       "      <td>1</td>\n",
       "      <td>37.0</td>\n",
       "      <td>2</td>\n",
       "      <td>NaN</td>\n",
       "      <td>$107,961</td>\n",
       "      <td>No</td>\n",
       "      <td>$333,680</td>\n",
       "      <td>Yes</td>\n",
       "      <td>M</td>\n",
       "      <td>Bachelors</td>\n",
       "      <td>z_Blue Collar</td>\n",
       "      <td>44</td>\n",
       "      <td>Commercial</td>\n",
       "      <td>$16,970</td>\n",
       "      <td>1</td>\n",
       "      <td>Van</td>\n",
       "      <td>yes</td>\n",
       "      <td>$2,374</td>\n",
       "      <td>1</td>\n",
       "      <td>Yes</td>\n",
       "      <td>10</td>\n",
       "      <td>7.0</td>\n",
       "      <td>Highly Urban/ Urban</td>\n",
       "    </tr>\n",
       "    <tr>\n",
       "      <th>8</th>\n",
       "      <td>12</td>\n",
       "      <td>1</td>\n",
       "      <td>2501.0</td>\n",
       "      <td>0</td>\n",
       "      <td>34.0</td>\n",
       "      <td>0</td>\n",
       "      <td>10.0</td>\n",
       "      <td>$62,978</td>\n",
       "      <td>No</td>\n",
       "      <td>$0</td>\n",
       "      <td>z_No</td>\n",
       "      <td>z_F</td>\n",
       "      <td>Bachelors</td>\n",
       "      <td>Clerical</td>\n",
       "      <td>34</td>\n",
       "      <td>Private</td>\n",
       "      <td>$11,200</td>\n",
       "      <td>1</td>\n",
       "      <td>z_SUV</td>\n",
       "      <td>no</td>\n",
       "      <td>$0</td>\n",
       "      <td>0</td>\n",
       "      <td>No</td>\n",
       "      <td>0</td>\n",
       "      <td>1.0</td>\n",
       "      <td>Highly Urban/ Urban</td>\n",
       "    </tr>\n",
       "    <tr>\n",
       "      <th>9</th>\n",
       "      <td>13</td>\n",
       "      <td>0</td>\n",
       "      <td>0.0</td>\n",
       "      <td>0</td>\n",
       "      <td>50.0</td>\n",
       "      <td>0</td>\n",
       "      <td>7.0</td>\n",
       "      <td>$106,952</td>\n",
       "      <td>No</td>\n",
       "      <td>$0</td>\n",
       "      <td>z_No</td>\n",
       "      <td>M</td>\n",
       "      <td>Bachelors</td>\n",
       "      <td>Professional</td>\n",
       "      <td>48</td>\n",
       "      <td>Commercial</td>\n",
       "      <td>$18,510</td>\n",
       "      <td>7</td>\n",
       "      <td>Van</td>\n",
       "      <td>no</td>\n",
       "      <td>$0</td>\n",
       "      <td>0</td>\n",
       "      <td>No</td>\n",
       "      <td>1</td>\n",
       "      <td>17.0</td>\n",
       "      <td>z_Highly Rural/ Rural</td>\n",
       "    </tr>\n",
       "  </tbody>\n",
       "</table>\n",
       "</div>"
      ],
      "text/plain": [
       "   INDEX  TARGET_FLAG  TARGET_AMT  KIDSDRIV   AGE  HOMEKIDS   YOJ    INCOME  \\\n",
       "0      1            0         0.0         0  60.0         0  11.0   $67,349   \n",
       "1      2            0         0.0         0  43.0         0  11.0   $91,449   \n",
       "2      4            0         0.0         0  35.0         1  10.0   $16,039   \n",
       "3      5            0         0.0         0  51.0         0  14.0       NaN   \n",
       "4      6            0         0.0         0  50.0         0   NaN  $114,986   \n",
       "5      7            1      2946.0         0  34.0         1  12.0  $125,301   \n",
       "6      8            0         0.0         0  54.0         0   NaN   $18,755   \n",
       "7     11            1      4021.0         1  37.0         2   NaN  $107,961   \n",
       "8     12            1      2501.0         0  34.0         0  10.0   $62,978   \n",
       "9     13            0         0.0         0  50.0         0   7.0  $106,952   \n",
       "\n",
       "  PARENT1  HOME_VAL MSTATUS  SEX      EDUCATION            JOB  TRAVTIME  \\\n",
       "0      No        $0    z_No    M            PhD   Professional        14   \n",
       "1      No  $257,252    z_No    M  z_High School  z_Blue Collar        22   \n",
       "2      No  $124,191     Yes  z_F  z_High School       Clerical         5   \n",
       "3      No  $306,251     Yes    M   <High School  z_Blue Collar        32   \n",
       "4      No  $243,925     Yes  z_F            PhD         Doctor        36   \n",
       "5     Yes        $0    z_No  z_F      Bachelors  z_Blue Collar        46   \n",
       "6      No       NaN     Yes  z_F   <High School  z_Blue Collar        33   \n",
       "7      No  $333,680     Yes    M      Bachelors  z_Blue Collar        44   \n",
       "8      No        $0    z_No  z_F      Bachelors       Clerical        34   \n",
       "9      No        $0    z_No    M      Bachelors   Professional        48   \n",
       "\n",
       "      CAR_USE BLUEBOOK  TIF    CAR_TYPE RED_CAR OLDCLAIM  CLM_FREQ REVOKED  \\\n",
       "0     Private  $14,230   11     Minivan     yes   $4,461         2      No   \n",
       "1  Commercial  $14,940    1     Minivan     yes       $0         0      No   \n",
       "2     Private   $4,010    4       z_SUV      no  $38,690         2      No   \n",
       "3     Private  $15,440    7     Minivan     yes       $0         0      No   \n",
       "4     Private  $18,000    1       z_SUV      no  $19,217         2     Yes   \n",
       "5  Commercial  $17,430    1  Sports Car      no       $0         0      No   \n",
       "6     Private   $8,780    1       z_SUV      no       $0         0      No   \n",
       "7  Commercial  $16,970    1         Van     yes   $2,374         1     Yes   \n",
       "8     Private  $11,200    1       z_SUV      no       $0         0      No   \n",
       "9  Commercial  $18,510    7         Van      no       $0         0      No   \n",
       "\n",
       "   MVR_PTS  CAR_AGE             URBANICITY  \n",
       "0        3     18.0    Highly Urban/ Urban  \n",
       "1        0      1.0    Highly Urban/ Urban  \n",
       "2        3     10.0    Highly Urban/ Urban  \n",
       "3        0      6.0    Highly Urban/ Urban  \n",
       "4        3     17.0    Highly Urban/ Urban  \n",
       "5        0      7.0    Highly Urban/ Urban  \n",
       "6        0      1.0    Highly Urban/ Urban  \n",
       "7       10      7.0    Highly Urban/ Urban  \n",
       "8        0      1.0    Highly Urban/ Urban  \n",
       "9        1     17.0  z_Highly Rural/ Rural  "
      ]
     },
     "execution_count": 3,
     "metadata": {},
     "output_type": "execute_result"
    }
   ],
   "source": [
    "print(train_auto.shape)\n",
    "print(test_auto.shape)\n",
    "\n",
    "# We have a train/test split of about 80/20\n",
    "\n",
    "train_auto.head(10)"
   ]
  },
  {
   "cell_type": "markdown",
   "metadata": {},
   "source": [
    "We have 26 columns, with 23 variables that may be useful for our prediction (categorical and numerical variables).\n",
    "\n",
    "The other columns are **INDEX** (which concatenated with the *test_auto* gives us the total dataset of 10,302 lines), **TARGET_FLAG** (whose values are 0 or 1) and **TARGET_AMT** which goes along with **TARGET_FLAG** and has non zero values if the latter has a 1 in the same line.\n",
    "\n",
    "However as it is asked of us, we will only look at the response variable **TARGET_FLAG**, so we are tackling a classification problem.\n",
    "\n",
    "Let's look at the different columns."
   ]
  },
  {
   "cell_type": "code",
   "execution_count": 4,
   "metadata": {},
   "outputs": [
    {
     "data": {
      "image/png": "[encoded data removed]",
      "text/plain": [
       "<Figure size 432x288 with 1 Axes>"
      ]
     },
     "metadata": {
      "needs_background": "light"
     },
     "output_type": "display_data"
    }
   ],
   "source": [
    "y = train_auto['TARGET_FLAG']\n",
    "_ = y.value_counts().plot(kind=\"bar\")"
   ]
  },
  {
   "cell_type": "markdown",
   "metadata": {},
   "source": [
    "So we have approximately 3 times as many zeros as ones for the target variable (at least in the train dataset)"
   ]
  },
  {
   "cell_type": "code",
   "execution_count": 5,
   "metadata": {
    "scrolled": true
   },
   "outputs": [
    {
     "data": {
      "text/plain": [
       "INDEX            int64\n",
       "TARGET_FLAG      int64\n",
       "TARGET_AMT     float64\n",
       "KIDSDRIV         int64\n",
       "AGE            float64\n",
       "HOMEKIDS         int64\n",
       "YOJ            float64\n",
       "INCOME          object\n",
       "PARENT1         object\n",
       "HOME_VAL        object\n",
       "MSTATUS         object\n",
       "SEX             object\n",
       "EDUCATION       object\n",
       "JOB             object\n",
       "TRAVTIME         int64\n",
       "CAR_USE         object\n",
       "BLUEBOOK        object\n",
       "TIF              int64\n",
       "CAR_TYPE        object\n",
       "RED_CAR         object\n",
       "OLDCLAIM        object\n",
       "CLM_FREQ         int64\n",
       "REVOKED         object\n",
       "MVR_PTS          int64\n",
       "CAR_AGE        float64\n",
       "URBANICITY      object\n",
       "dtype: object"
      ]
     },
     "execution_count": 5,
     "metadata": {},
     "output_type": "execute_result"
    }
   ],
   "source": [
    "# Let's view our column types\n",
    "\n",
    "train_auto.dtypes"
   ]
  },
  {
   "cell_type": "markdown",
   "metadata": {},
   "source": [
    "As we can see we have both numerical and categorical variables, but some column types whose dtypes are object can be changed to numerical : **INCOME**, **HOME_VAL**, **BLUEBOOK** and **OLDCLAIM** whose values are all in dollars. We will hence change their types to floats before predicting."
   ]
  },
  {
   "cell_type": "code",
   "execution_count": 6,
   "metadata": {
    "scrolled": true
   },
   "outputs": [],
   "source": [
    "## Transforming the values in dollars to floats\n",
    "\n",
    "def transform_value_to_num(string):\n",
    "    '''Transforming values with dollar in front to numerical type'''\n",
    "    if isinstance(string, str):\n",
    "        new = string.replace('$', '').replace(',', '') # delete the dollar and commas in the string\n",
    "        return(float(new)) # transform to float\n",
    "\n",
    "# Apply the function to the necessary columns\n",
    "for name in ['INCOME', 'HOME_VAL', 'BLUEBOOK', 'OLDCLAIM']:\n",
    "    train_auto[name] = train_auto[name].apply(lambda x: transform_value_to_num(x))"
   ]
  },
  {
   "cell_type": "markdown",
   "metadata": {},
   "source": [
    "Now we have our categorical and numerical variables as we want them to be."
   ]
  },
  {
   "cell_type": "markdown",
   "metadata": {},
   "source": [
    "### Seperating Numerical and Categorical"
   ]
  },
  {
   "cell_type": "code",
   "execution_count": 7,
   "metadata": {
    "scrolled": true
   },
   "outputs": [
    {
     "data": {
      "text/plain": [
       "INDEX            int64\n",
       "TARGET_FLAG      int64\n",
       "TARGET_AMT     float64\n",
       "KIDSDRIV         int64\n",
       "AGE            float64\n",
       "HOMEKIDS         int64\n",
       "YOJ            float64\n",
       "INCOME         float64\n",
       "PARENT1         object\n",
       "HOME_VAL       float64\n",
       "MSTATUS         object\n",
       "SEX             object\n",
       "EDUCATION       object\n",
       "JOB             object\n",
       "TRAVTIME         int64\n",
       "CAR_USE         object\n",
       "BLUEBOOK       float64\n",
       "TIF              int64\n",
       "CAR_TYPE        object\n",
       "RED_CAR         object\n",
       "OLDCLAIM       float64\n",
       "CLM_FREQ         int64\n",
       "REVOKED         object\n",
       "MVR_PTS          int64\n",
       "CAR_AGE        float64\n",
       "URBANICITY      object\n",
       "dtype: object"
      ]
     },
     "execution_count": 7,
     "metadata": {},
     "output_type": "execute_result"
    }
   ],
   "source": [
    "train_auto.dtypes"
   ]
  },
  {
   "cell_type": "code",
   "execution_count": 9,
   "metadata": {
    "scrolled": true
   },
   "outputs": [
    {
     "data": {
      "text/plain": [
       "True"
      ]
     },
     "execution_count": 9,
     "metadata": {},
     "output_type": "execute_result"
    }
   ],
   "source": [
    "# Get all the names of the numerical columns\n",
    "\n",
    "col_names = train_auto.columns.to_list()\n",
    "\n",
    "def is_num(df):\n",
    "    '''Function returning a list of column names that have numerical type'''\n",
    "    num_cols = []\n",
    "    x = df.dtypes\n",
    "    for i in range(len(df.columns)):\n",
    "        if x[i] == 'int64' or x[i] == 'float64':\n",
    "            num_cols.append(df.columns[i])\n",
    "    return num_cols\n",
    "\n",
    "num_col = is_num(train_auto) # All numerical columns (including 'INDEX', and the two target variables)\n",
    "\n",
    "num_cols = num_col[3:] # We take the columns starting from the 4th because the others are not explanatory variables\n",
    "cat_cols = [s for s in col_names if s not in num_col]\n",
    "\n",
    "# We now have the list of our categorical and numerical columns\n",
    "len(num_cols) + len(cat_cols) + 3 == 26 #To make sure we haven't missed a column"
   ]
  },
  {
   "cell_type": "markdown",
   "metadata": {},
   "source": [
    "It is difficult to know exactly what all columns represent, TIF for instance, hence we decide that the numerical columns are all the ones with numerical values. "
   ]
  },
  {
   "cell_type": "markdown",
   "metadata": {},
   "source": [
    "### Exploratory Analysis\n",
    "\n",
    "Here we will quickly look at certain variables, but lacking time we will not make it truly thorough.\n",
    "\n",
    "Given the nature of the data, we can surmise that the variables with **CAR** will have a large impact on our target variable (as we are looking at auto insurance)."
   ]
  },
  {
   "cell_type": "code",
   "execution_count": 10,
   "metadata": {},
   "outputs": [
    {
     "data": {
      "text/plain": [
       "array(['Private', 'Commercial'], dtype=object)"
      ]
     },
     "execution_count": 10,
     "metadata": {},
     "output_type": "execute_result"
    }
   ],
   "source": [
    "train_auto['CAR_USE'].unique()"
   ]
  },
  {
   "cell_type": "code",
   "execution_count": 11,
   "metadata": {
    "scrolled": true
   },
   "outputs": [
    {
     "name": "stdout",
     "output_type": "stream",
     "text": [
      "Percentage of TARGET_FLAG=1 for a private use :  21.55 %\n",
      "Percentage of TARGET_FLAG=1 for a commercial use :  34.57 %\n"
     ]
    }
   ],
   "source": [
    "private = train_auto[train_auto['CAR_USE'] == 'Private']\n",
    "comm = train_auto[train_auto['CAR_USE'] == 'Commercial']\n",
    "\n",
    "private_val = private['TARGET_FLAG'].value_counts()\n",
    "comm_val = comm['TARGET_FLAG'].value_counts()\n",
    "\n",
    "print('Percentage of TARGET_FLAG=1 for a private use : ', round(100*private_val[1]/(private_val[0] + private_val[1]), 2), '%')\n",
    "print('Percentage of TARGET_FLAG=1 for a commercial use : ', round(100*comm_val[1]/(comm_val[0] + comm_val[1]), 2), '%')"
   ]
  },
  {
   "cell_type": "markdown",
   "metadata": {},
   "source": [
    "Hence, people who use their car for 'Commercial' purposes are more likely to get a **TARGET_FLAG**=1, which could have been expected.\n",
    "\n",
    "We can also look at **CAR_AGE**, which could show us some interesting things."
   ]
  },
  {
   "cell_type": "code",
   "execution_count": 12,
   "metadata": {},
   "outputs": [
    {
     "name": "stdout",
     "output_type": "stream",
     "text": [
      "Average car age for TARGET_FLAG=1 :  7.367478866235704\n",
      "Average car age for TARGET_FLAG=0 :  8.670921985815603\n"
     ]
    }
   ],
   "source": [
    "print('Average car age for TARGET_FLAG=1 : ', train_auto[train_auto['TARGET_FLAG']==1]['CAR_AGE'].mean())\n",
    "print('Average car age for TARGET_FLAG=0 : ', train_auto[train_auto['TARGET_FLAG']==0]['CAR_AGE'].mean())"
   ]
  },
  {
   "cell_type": "code",
   "execution_count": 13,
   "metadata": {
    "scrolled": true
   },
   "outputs": [
    {
     "data": {
      "text/html": [
       "<div>\n",
       "<style scoped>\n",
       "    .dataframe tbody tr th:only-of-type {\n",
       "        vertical-align: middle;\n",
       "    }\n",
       "\n",
       "    .dataframe tbody tr th {\n",
       "        vertical-align: top;\n",
       "    }\n",
       "\n",
       "    .dataframe thead th {\n",
       "        text-align: right;\n",
       "    }\n",
       "</style>\n",
       "<table border=\"1\" class=\"dataframe\">\n",
       "  <thead>\n",
       "    <tr style=\"text-align: right;\">\n",
       "      <th></th>\n",
       "      <th>TARGET_FLAG</th>\n",
       "      <th>CAR_AGE</th>\n",
       "      <th>COUNT</th>\n",
       "    </tr>\n",
       "  </thead>\n",
       "  <tbody>\n",
       "    <tr>\n",
       "      <th>0</th>\n",
       "      <td>0</td>\n",
       "      <td>0.0</td>\n",
       "      <td>3</td>\n",
       "    </tr>\n",
       "    <tr>\n",
       "      <th>1</th>\n",
       "      <td>0</td>\n",
       "      <td>1.0</td>\n",
       "      <td>1308</td>\n",
       "    </tr>\n",
       "    <tr>\n",
       "      <th>2</th>\n",
       "      <td>0</td>\n",
       "      <td>2.0</td>\n",
       "      <td>8</td>\n",
       "    </tr>\n",
       "    <tr>\n",
       "      <th>3</th>\n",
       "      <td>0</td>\n",
       "      <td>3.0</td>\n",
       "      <td>38</td>\n",
       "    </tr>\n",
       "    <tr>\n",
       "      <th>4</th>\n",
       "      <td>0</td>\n",
       "      <td>4.0</td>\n",
       "      <td>101</td>\n",
       "    </tr>\n",
       "  </tbody>\n",
       "</table>\n",
       "</div>"
      ],
      "text/plain": [
       "   TARGET_FLAG  CAR_AGE  COUNT\n",
       "0            0      0.0      3\n",
       "1            0      1.0   1308\n",
       "2            0      2.0      8\n",
       "3            0      3.0     38\n",
       "4            0      4.0    101"
      ]
     },
     "execution_count": 13,
     "metadata": {},
     "output_type": "execute_result"
    }
   ],
   "source": [
    "new = train_auto.groupby(['TARGET_FLAG', 'CAR_AGE'], as_index=False)['TARGET_AMT'].count()\n",
    "new.columns = ['TARGET_FLAG', 'CAR_AGE', 'COUNT']\n",
    "new.head()"
   ]
  },
  {
   "cell_type": "code",
   "execution_count": 14,
   "metadata": {
    "scrolled": true
   },
   "outputs": [
    {
     "data": {
      "image/png": "[encoded data removed]",
      "text/plain": [
       "<Figure size 720x288 with 2 Axes>"
      ]
     },
     "metadata": {
      "needs_background": "light"
     },
     "output_type": "display_data"
    }
   ],
   "source": [
    "target_one = new[new['TARGET_FLAG']==1][['CAR_AGE', 'COUNT']]\n",
    "target_zero = new[new['TARGET_FLAG']==0][['CAR_AGE', 'COUNT']]\n",
    "\n",
    "\n",
    "plt.figure(figsize=(10,4))\n",
    "\n",
    "plt.subplot(1, 2, 1)\n",
    "plt.title('Distribution of car ages for TARGET_FLAG=1')\n",
    "plt.bar(target_one['CAR_AGE'],target_one['COUNT'])\n",
    "\n",
    "plt.subplot(1, 2, 2)\n",
    "plt.title('Distribution of car ages for TARGET_FLAG=0')\n",
    "plt.bar(target_zero['CAR_AGE'],target_zero['COUNT'])\n",
    "\n",
    "\n",
    "plt.tight_layout()\n",
    "plt.show()"
   ]
  },
  {
   "cell_type": "markdown",
   "metadata": {},
   "source": [
    "There doesn't seem to be much to be made of the **CAR_AGE** variable with these plots, as they look alike, except that the one with **TARGET_FLAG**==0 has double the value counts.\n",
    "\n",
    "Also, we notice that we are missing values, but it is due to the large amount of empty cells for the variable **CAR_AGE**.\n",
    "\n",
    "Let's do the same thing for the variable **INCOME**:"
   ]
  },
  {
   "cell_type": "code",
   "execution_count": 15,
   "metadata": {},
   "outputs": [
    {
     "data": {
      "text/html": [
       "<div>\n",
       "<style scoped>\n",
       "    .dataframe tbody tr th:only-of-type {\n",
       "        vertical-align: middle;\n",
       "    }\n",
       "\n",
       "    .dataframe tbody tr th {\n",
       "        vertical-align: top;\n",
       "    }\n",
       "\n",
       "    .dataframe thead th {\n",
       "        text-align: right;\n",
       "    }\n",
       "</style>\n",
       "<table border=\"1\" class=\"dataframe\">\n",
       "  <thead>\n",
       "    <tr style=\"text-align: right;\">\n",
       "      <th></th>\n",
       "      <th>INCOME</th>\n",
       "    </tr>\n",
       "  </thead>\n",
       "  <tbody>\n",
       "    <tr>\n",
       "      <th>count</th>\n",
       "      <td>7716.000000</td>\n",
       "    </tr>\n",
       "    <tr>\n",
       "      <th>mean</th>\n",
       "      <td>61898.094609</td>\n",
       "    </tr>\n",
       "    <tr>\n",
       "      <th>std</th>\n",
       "      <td>47572.682808</td>\n",
       "    </tr>\n",
       "    <tr>\n",
       "      <th>min</th>\n",
       "      <td>0.000000</td>\n",
       "    </tr>\n",
       "    <tr>\n",
       "      <th>25%</th>\n",
       "      <td>28097.000000</td>\n",
       "    </tr>\n",
       "    <tr>\n",
       "      <th>50%</th>\n",
       "      <td>54028.000000</td>\n",
       "    </tr>\n",
       "    <tr>\n",
       "      <th>75%</th>\n",
       "      <td>85986.000000</td>\n",
       "    </tr>\n",
       "    <tr>\n",
       "      <th>max</th>\n",
       "      <td>367030.000000</td>\n",
       "    </tr>\n",
       "  </tbody>\n",
       "</table>\n",
       "</div>"
      ],
      "text/plain": [
       "              INCOME\n",
       "count    7716.000000\n",
       "mean    61898.094609\n",
       "std     47572.682808\n",
       "min         0.000000\n",
       "25%     28097.000000\n",
       "50%     54028.000000\n",
       "75%     85986.000000\n",
       "max    367030.000000"
      ]
     },
     "execution_count": 15,
     "metadata": {},
     "output_type": "execute_result"
    }
   ],
   "source": [
    "## We first look at the distribution of INCOME in our dataset\n",
    "\n",
    "train_auto[['INCOME']].describe()"
   ]
  },
  {
   "cell_type": "markdown",
   "metadata": {},
   "source": [
    "As expected the mean is above the median, let's bin the values into what seems like appropriate intervals:"
   ]
  },
  {
   "cell_type": "code",
   "execution_count": 16,
   "metadata": {},
   "outputs": [
    {
     "name": "stdout",
     "output_type": "stream",
     "text": [
      "We have binned into groups delimited by these values :  [     0.  10000.  20000.  30000.  40000.  50000.  60000.  70000.  80000.\n",
      "  90000. 100000. 110000. 120000. 150000. 200000. 300000. 400000.]\n"
     ]
    }
   ],
   "source": [
    "bins = np.linspace(0, 120000, 13)\n",
    "bins = np.insert(bins, 13, [150000, 200000, 300000, 400000])\n",
    "print('We have binned into groups delimited by these values : ', bins)\n",
    "\n",
    "one = train_auto[train_auto['TARGET_FLAG']==1]\n",
    "one_inc = one.groupby(pd.cut(one['INCOME'], bins), as_index=False)['TARGET_FLAG'].count()\n",
    "one_inc['INCOME_BIN'] = np.arange(0,16)\n",
    "one_inc.columns = ['COUNT', 'INCOME_BIN']\n",
    "\n",
    "\n",
    "zero = train_auto[train_auto['TARGET_FLAG']==0]\n",
    "zero_inc = zero.groupby(pd.cut(zero['INCOME'], bins), as_index=False)['TARGET_FLAG'].count()\n",
    "zero_inc['INCOME_BIN'] = np.arange(0,16)\n",
    "zero_inc.columns = ['COUNT', 'INCOME_BIN']"
   ]
  },
  {
   "cell_type": "code",
   "execution_count": 17,
   "metadata": {
    "scrolled": false
   },
   "outputs": [
    {
     "data": {
      "image/png": "[encoded data removed]",
      "text/plain": [
       "<Figure size 720x288 with 2 Axes>"
      ]
     },
     "metadata": {
      "needs_background": "light"
     },
     "output_type": "display_data"
    },
    {
     "data": {
      "text/html": [
       "<div>\n",
       "<style scoped>\n",
       "    .dataframe tbody tr th:only-of-type {\n",
       "        vertical-align: middle;\n",
       "    }\n",
       "\n",
       "    .dataframe tbody tr th {\n",
       "        vertical-align: top;\n",
       "    }\n",
       "\n",
       "    .dataframe thead th {\n",
       "        text-align: right;\n",
       "    }\n",
       "</style>\n",
       "<table border=\"1\" class=\"dataframe\">\n",
       "  <thead>\n",
       "    <tr style=\"text-align: right;\">\n",
       "      <th></th>\n",
       "      <th>INCOME_BIN</th>\n",
       "      <th>ONE_perc</th>\n",
       "    </tr>\n",
       "  </thead>\n",
       "  <tbody>\n",
       "    <tr>\n",
       "      <th>0</th>\n",
       "      <td>0</td>\n",
       "      <td>29.829545</td>\n",
       "    </tr>\n",
       "    <tr>\n",
       "      <th>1</th>\n",
       "      <td>1</td>\n",
       "      <td>31.972789</td>\n",
       "    </tr>\n",
       "    <tr>\n",
       "      <th>2</th>\n",
       "      <td>2</td>\n",
       "      <td>30.568356</td>\n",
       "    </tr>\n",
       "    <tr>\n",
       "      <th>3</th>\n",
       "      <td>3</td>\n",
       "      <td>29.920213</td>\n",
       "    </tr>\n",
       "    <tr>\n",
       "      <th>4</th>\n",
       "      <td>4</td>\n",
       "      <td>29.769959</td>\n",
       "    </tr>\n",
       "    <tr>\n",
       "      <th>5</th>\n",
       "      <td>5</td>\n",
       "      <td>29.230769</td>\n",
       "    </tr>\n",
       "    <tr>\n",
       "      <th>6</th>\n",
       "      <td>6</td>\n",
       "      <td>28.657617</td>\n",
       "    </tr>\n",
       "    <tr>\n",
       "      <th>7</th>\n",
       "      <td>7</td>\n",
       "      <td>22.428331</td>\n",
       "    </tr>\n",
       "    <tr>\n",
       "      <th>8</th>\n",
       "      <td>8</td>\n",
       "      <td>19.518072</td>\n",
       "    </tr>\n",
       "    <tr>\n",
       "      <th>9</th>\n",
       "      <td>9</td>\n",
       "      <td>15.384615</td>\n",
       "    </tr>\n",
       "    <tr>\n",
       "      <th>10</th>\n",
       "      <td>10</td>\n",
       "      <td>16.119403</td>\n",
       "    </tr>\n",
       "    <tr>\n",
       "      <th>11</th>\n",
       "      <td>11</td>\n",
       "      <td>21.681416</td>\n",
       "    </tr>\n",
       "    <tr>\n",
       "      <th>12</th>\n",
       "      <td>12</td>\n",
       "      <td>15.827338</td>\n",
       "    </tr>\n",
       "    <tr>\n",
       "      <th>13</th>\n",
       "      <td>13</td>\n",
       "      <td>13.000000</td>\n",
       "    </tr>\n",
       "    <tr>\n",
       "      <th>14</th>\n",
       "      <td>14</td>\n",
       "      <td>19.626168</td>\n",
       "    </tr>\n",
       "    <tr>\n",
       "      <th>15</th>\n",
       "      <td>15</td>\n",
       "      <td>20.000000</td>\n",
       "    </tr>\n",
       "  </tbody>\n",
       "</table>\n",
       "</div>"
      ],
      "text/plain": [
       "    INCOME_BIN   ONE_perc\n",
       "0            0  29.829545\n",
       "1            1  31.972789\n",
       "2            2  30.568356\n",
       "3            3  29.920213\n",
       "4            4  29.769959\n",
       "5            5  29.230769\n",
       "6            6  28.657617\n",
       "7            7  22.428331\n",
       "8            8  19.518072\n",
       "9            9  15.384615\n",
       "10          10  16.119403\n",
       "11          11  21.681416\n",
       "12          12  15.827338\n",
       "13          13  13.000000\n",
       "14          14  19.626168\n",
       "15          15  20.000000"
      ]
     },
     "execution_count": 17,
     "metadata": {},
     "output_type": "execute_result"
    }
   ],
   "source": [
    "plt.figure(figsize=(10,4))\n",
    "\n",
    "plt.subplot(1, 2, 1)\n",
    "plt.title('Count Distribution per Income Bin for TARGET_FLAG=1')\n",
    "plt.bar(one_inc['INCOME_BIN'], one_inc['COUNT'])\n",
    "\n",
    "plt.subplot(1, 2, 2)\n",
    "plt.title('Count Distribution per Income Bin for TARGET_FLAG=0')\n",
    "plt.bar(zero_inc['INCOME_BIN'], zero_inc['COUNT'])\n",
    "\n",
    "plt.tight_layout()\n",
    "plt.show()\n",
    "\n",
    "\n",
    "merged = pd.merge(one_inc, zero_inc, on='INCOME_BIN')\n",
    "merged['ONE_perc'] = 100*merged['COUNT_x']/(merged['COUNT_y']+merged['COUNT_x'])\n",
    "merged[['INCOME_BIN', 'ONE_perc']]"
   ]
  },
  {
   "cell_type": "markdown",
   "metadata": {},
   "source": [
    "The plots are once again similar, although here we can see that the higher the income, the likelier the individual will not have a **TARGET_FLAG** = 1. We have around 30% of **TARGET_FLAG**=1, in lower incomes (<$70k), and around 20% for the higher incomes.\n",
    "\n",
    "We could look at some other variables in particular, or delve deeper into the analyses of the variables we have just illustrated, but let us move on to predicting."
   ]
  },
  {
   "cell_type": "markdown",
   "metadata": {},
   "source": [
    "### Prediction\n",
    "\n",
    "We will now create a Pipeline to transform our dataframe in the best way possible before fitting a classifier to it that will then predict on our test data."
   ]
  },
  {
   "cell_type": "code",
   "execution_count": 18,
   "metadata": {},
   "outputs": [],
   "source": [
    "# Importing the modules\n",
    "\n",
    "from sklearn.compose import make_column_transformer\n",
    "from sklearn.pipeline import make_pipeline\n",
    "from sklearn.impute import SimpleImputer\n",
    "from sklearn.preprocessing import StandardScaler\n",
    "from sklearn.preprocessing import FunctionTransformer\n",
    "from sklearn.preprocessing import OrdinalEncoder\n",
    "from xgboost import XGBClassifier"
   ]
  },
  {
   "cell_type": "code",
   "execution_count": 19,
   "metadata": {},
   "outputs": [
    {
     "name": "stdout",
     "output_type": "stream",
     "text": [
      "<class 'pandas.core.frame.DataFrame'>\n",
      "RangeIndex: 8161 entries, 0 to 8160\n",
      "Data columns (total 10 columns):\n",
      " #   Column      Non-Null Count  Dtype \n",
      "---  ------      --------------  ----- \n",
      " 0   PARENT1     8161 non-null   object\n",
      " 1   MSTATUS     8161 non-null   object\n",
      " 2   SEX         8161 non-null   object\n",
      " 3   EDUCATION   8161 non-null   object\n",
      " 4   JOB         7635 non-null   object\n",
      " 5   CAR_USE     8161 non-null   object\n",
      " 6   CAR_TYPE    8161 non-null   object\n",
      " 7   RED_CAR     8161 non-null   object\n",
      " 8   REVOKED     8161 non-null   object\n",
      " 9   URBANICITY  8161 non-null   object\n",
      "dtypes: object(10)\n",
      "memory usage: 637.7+ KB\n"
     ]
    }
   ],
   "source": [
    "### Categorical Data\n",
    "\n",
    "train_auto_cat = train_auto[cat_cols]\n",
    "train_auto_cat.info()"
   ]
  },
  {
   "cell_type": "markdown",
   "metadata": {},
   "source": [
    "We can see we only have nulls for the category **JOB**, we have to treat these empty values before fitting our model.\n",
    "Since these are categorical values, we must replace the missing ones by the made-up category 'missing'.\n",
    "\n",
    "We also must encode these categorical variables, it can be done through several different ways, but we will using an Ordinal Encoder, hence the categorical pipeline:"
   ]
  },
  {
   "cell_type": "code",
   "execution_count": 20,
   "metadata": {},
   "outputs": [],
   "source": [
    "#Categorical pipeline\n",
    "cat_pipeline = make_pipeline(\n",
    "    SimpleImputer(strategy='constant', fill_value='missing'),\n",
    "    OrdinalEncoder(),\n",
    ")"
   ]
  },
  {
   "cell_type": "code",
   "execution_count": 21,
   "metadata": {},
   "outputs": [
    {
     "name": "stdout",
     "output_type": "stream",
     "text": [
      "<class 'pandas.core.frame.DataFrame'>\n",
      "RangeIndex: 8161 entries, 0 to 8160\n",
      "Data columns (total 13 columns):\n",
      " #   Column    Non-Null Count  Dtype  \n",
      "---  ------    --------------  -----  \n",
      " 0   KIDSDRIV  8161 non-null   int64  \n",
      " 1   AGE       8155 non-null   float64\n",
      " 2   HOMEKIDS  8161 non-null   int64  \n",
      " 3   YOJ       7707 non-null   float64\n",
      " 4   INCOME    7716 non-null   float64\n",
      " 5   HOME_VAL  7697 non-null   float64\n",
      " 6   TRAVTIME  8161 non-null   int64  \n",
      " 7   BLUEBOOK  8161 non-null   float64\n",
      " 8   TIF       8161 non-null   int64  \n",
      " 9   OLDCLAIM  8161 non-null   float64\n",
      " 10  CLM_FREQ  8161 non-null   int64  \n",
      " 11  MVR_PTS   8161 non-null   int64  \n",
      " 12  CAR_AGE   7651 non-null   float64\n",
      "dtypes: float64(7), int64(6)\n",
      "memory usage: 829.0 KB\n"
     ]
    }
   ],
   "source": [
    "### Numerical Data\n",
    "\n",
    "train_auto_num = train_auto[num_cols]\n",
    "train_auto_num.info() # Same as for categorical data, we need to treat the empty values before proceeding"
   ]
  },
  {
   "cell_type": "markdown",
   "metadata": {},
   "source": [
    "For the numerical data, we will replace missing values with the most frequent value in the column, and we will use the StandardScaler to scale the numerical values."
   ]
  },
  {
   "cell_type": "code",
   "execution_count": 22,
   "metadata": {},
   "outputs": [],
   "source": [
    "#Numerical pipeline\n",
    "num_pipeline = make_pipeline(\n",
    "    SimpleImputer(strategy='mean'),\n",
    "    StandardScaler()\n",
    ")"
   ]
  },
  {
   "cell_type": "markdown",
   "metadata": {},
   "source": [
    "Finally we combine the preprocessing steps to make our pipeline"
   ]
  },
  {
   "cell_type": "code",
   "execution_count": 23,
   "metadata": {},
   "outputs": [],
   "source": [
    "#Combine the numerical and categorical pipelines\n",
    "\n",
    "preprocessing = make_column_transformer(\n",
    "    (num_pipeline, num_cols),\n",
    "    (cat_pipeline, cat_cols)\n",
    ")\n",
    "\n",
    "# We will use a simple XGBClassifier for the project, with default parameters\n",
    "\n",
    "model = make_pipeline(\n",
    "    preprocessing,\n",
    "    XGBClassifier()\n",
    ")"
   ]
  },
  {
   "cell_type": "markdown",
   "metadata": {},
   "source": [
    "Let's Test"
   ]
  },
  {
   "cell_type": "code",
   "execution_count": 24,
   "metadata": {
    "scrolled": true
   },
   "outputs": [
    {
     "name": "stdout",
     "output_type": "stream",
     "text": [
      "0.7790298873101421\n",
      "0.7251347378735914\n"
     ]
    }
   ],
   "source": [
    "cols = num_cols + cat_cols # combine all the explanatory variable names into one list\n",
    "\n",
    "from sklearn.model_selection import train_test_split\n",
    "\n",
    "X_train, X_test, y_train, y_test = train_test_split(\n",
    "    train_auto[cols], train_auto['TARGET_FLAG'], random_state=42\n",
    ")\n",
    "\n",
    "model.fit(X_train, y_train)\n",
    "print(model.score(X_test, y_test))\n",
    "\n",
    "print(1-(y_test.sum()/len(y_test)))"
   ]
  },
  {
   "cell_type": "markdown",
   "metadata": {},
   "source": [
    "As a first look it is not too bad, but not that great considering that by predicting 0s for every line of X_test, would get us an accuracy of 72.5% !"
   ]
  },
  {
   "cell_type": "code",
   "execution_count": 25,
   "metadata": {},
   "outputs": [
    {
     "data": {
      "text/plain": [
       "array([[1340,  140],\n",
       "       [ 311,  250]], dtype=int64)"
      ]
     },
     "execution_count": 25,
     "metadata": {},
     "output_type": "execute_result"
    }
   ],
   "source": [
    "from sklearn.metrics import confusion_matrix\n",
    "from sklearn.metrics import balanced_accuracy_score\n",
    "\n",
    "confusion_matrix(y_test, model.predict(X_test))\n",
    "# We have a lot of errors, as we have around 150 False 1s around 300 False 0s, which is huge \n",
    "# (more than the correctly predicted 1s)"
   ]
  },
  {
   "cell_type": "markdown",
   "metadata": {},
   "source": [
    "As our accuracy is not that great and we can't seem to predict the 1s very well, let's try using the imbalanced learning package, and randomly under sampling our data to get approximately the same number of 0s and 1s."
   ]
  },
  {
   "cell_type": "code",
   "execution_count": 26,
   "metadata": {},
   "outputs": [],
   "source": [
    "from imblearn.pipeline import make_pipeline as make_pipeline_imblearn\n",
    "from imblearn.under_sampling import RandomUnderSampler\n",
    "\n",
    "model_undersampled = make_pipeline_imblearn(\n",
    "    preprocessing,\n",
    "    RandomUnderSampler(),\n",
    "    XGBClassifier()\n",
    ")"
   ]
  },
  {
   "cell_type": "code",
   "execution_count": 27,
   "metadata": {},
   "outputs": [
    {
     "name": "stdout",
     "output_type": "stream",
     "text": [
      "Accuracy :  0.7790298873101421\n",
      "Balanced Accuracy for Original Model :  0.6755191019896902\n",
      "Balanced Accuracy for Undersampled Model :  0.7045725538372597\n"
     ]
    },
    {
     "data": {
      "text/plain": [
       "array([[1025,  455],\n",
       "       [ 159,  402]], dtype=int64)"
      ]
     },
     "execution_count": 27,
     "metadata": {},
     "output_type": "execute_result"
    }
   ],
   "source": [
    "model_undersampled.fit(X_train, y_train)\n",
    "print('Accuracy : ', model.score(X_test, y_test))\n",
    "print('Balanced Accuracy for Original Model : ', balanced_accuracy_score(y_test, model.predict(X_test)))\n",
    "print('Balanced Accuracy for Undersampled Model : ', balanced_accuracy_score(y_test, model_undersampled.predict(X_test)))\n",
    "# We use balanced accuracy score to see what we can actually learn from the data set,\n",
    "# it is computed by weighing the values according to their prevalence in the dataset\n",
    "\n",
    "confusion_matrix(y_test, model_undersampled.predict(X_test))"
   ]
  },
  {
   "cell_type": "markdown",
   "metadata": {},
   "source": [
    "We get better results than for the imbalanced model ! However it is at the expense of getting more false 1s for the **TARGET_FLAG** variable.\n",
    "\n",
    "Finally, let's perform a 10-fold cross validation to make sure our model is robust."
   ]
  },
  {
   "cell_type": "code",
   "execution_count": 28,
   "metadata": {
    "scrolled": true
   },
   "outputs": [
    {
     "name": "stdout",
     "output_type": "stream",
     "text": [
      "[0.69033048 0.74632353 0.69485294 0.6875     0.74387255 0.72058824\n",
      " 0.71446078 0.72303922 0.70220588 0.72916667]\n",
      "0.715234028127775\n"
     ]
    }
   ],
   "source": [
    "from sklearn.model_selection import KFold\n",
    "from sklearn.model_selection import cross_val_score\n",
    "\n",
    "cv = KFold(n_splits=10, random_state=1, shuffle=True)\n",
    "\n",
    "scores = cross_val_score(model_undersampled, train_auto[cols], train_auto['TARGET_FLAG'], cv=cv, n_jobs=-1)\n",
    "print(scores)\n",
    "print(np.mean(scores))"
   ]
  },
  {
   "cell_type": "markdown",
   "metadata": {},
   "source": [
    "The scores obtained by cross validating are all rather similar, around 70% score, hence we can say our model is rather robust."
   ]
  },
  {
   "cell_type": "code",
   "execution_count": 29,
   "metadata": {},
   "outputs": [
    {
     "name": "stdout",
     "output_type": "stream",
     "text": [
      "Precision : 0.4690781796966161\n",
      "Recall : 0.7165775401069518\n"
     ]
    }
   ],
   "source": [
    "# Let's look at the fscore, for a positive TARGET_FLAG=1, which is an interesting metric for classification.\n",
    "\n",
    "from sklearn.metrics import precision_score, recall_score\n",
    "\n",
    "precision = precision_score(y_test, model_undersampled.predict(X_test), pos_label=1)\n",
    "recall = recall_score(y_test, model_undersampled.predict(X_test), pos_label=1)\n",
    "print(f\"Precision : {precision}\")\n",
    "print(f\"Recall : {recall}\")"
   ]
  },
  {
   "cell_type": "markdown",
   "metadata": {},
   "source": [
    "We have a good recall but not a very good precision, but this was our choice, as we would rather have more accurately predicted 1s for **TARGET_FLAG**."
   ]
  },
  {
   "cell_type": "code",
   "execution_count": 37,
   "metadata": {},
   "outputs": [
    {
     "data": {
      "text/plain": [
       "<matplotlib.legend.Legend at 0x14147689fd0>"
      ]
     },
     "execution_count": 37,
     "metadata": {},
     "output_type": "execute_result"
    },
    {
     "data": {
      "image/png": "[encoded data removed]",
      "text/plain": [
       "<Figure size 432x288 with 1 Axes>"
      ]
     },
     "metadata": {
      "needs_background": "light"
     },
     "output_type": "display_data"
    }
   ],
   "source": [
    "# We can finally look a the ROC curve for our model, to illustrate.\n",
    "\n",
    "from sklearn.metrics import roc_curve\n",
    "\n",
    "p_test = model_undersampled.predict_proba(X_test)[:, 1]\n",
    "\n",
    "fpr, tpr, thresholds = roc_curve(y_test, model_undersampled.predict_proba(X_test)[:, 1], pos_label=1)\n",
    "plt.plot(fpr, tpr, label='ROC-curve')\n",
    "plt.plot([0, 0, 1], [0, 1, 1], label='perfect ROC-curve')\n",
    "plt.plot(range(0, 2), 'k--')\n",
    "plt.xlabel('False Positive Rate')\n",
    "plt.ylabel('True Positive Rate')\n",
    "plt.xlim(-0.01, 1)\n",
    "plt.ylim(0, 1.01)\n",
    "plt.legend(ncol=2, bbox_to_anchor=(0, 1.05, 1., .3),\n",
    "           loc=3, borderaxespad=0)"
   ]
  },
  {
   "cell_type": "markdown",
   "metadata": {},
   "source": [
    "We can clearly see there is room for improvement!"
   ]
  },
  {
   "cell_type": "code",
   "execution_count": 198,
   "metadata": {
    "scrolled": true
   },
   "outputs": [
    {
     "data": {
      "text/html": [
       "<div>\n",
       "<style scoped>\n",
       "    .dataframe tbody tr th:only-of-type {\n",
       "        vertical-align: middle;\n",
       "    }\n",
       "\n",
       "    .dataframe tbody tr th {\n",
       "        vertical-align: top;\n",
       "    }\n",
       "\n",
       "    .dataframe thead th {\n",
       "        text-align: right;\n",
       "    }\n",
       "</style>\n",
       "<table border=\"1\" class=\"dataframe\">\n",
       "  <thead>\n",
       "    <tr style=\"text-align: right;\">\n",
       "      <th></th>\n",
       "      <th>feature</th>\n",
       "      <th>importance</th>\n",
       "    </tr>\n",
       "  </thead>\n",
       "  <tbody>\n",
       "    <tr>\n",
       "      <th>22</th>\n",
       "      <td>URBANICITY</td>\n",
       "      <td>0.166209</td>\n",
       "    </tr>\n",
       "    <tr>\n",
       "      <th>13</th>\n",
       "      <td>PARENT1</td>\n",
       "      <td>0.084205</td>\n",
       "    </tr>\n",
       "    <tr>\n",
       "      <th>21</th>\n",
       "      <td>REVOKED</td>\n",
       "      <td>0.074467</td>\n",
       "    </tr>\n",
       "    <tr>\n",
       "      <th>18</th>\n",
       "      <td>CAR_USE</td>\n",
       "      <td>0.061411</td>\n",
       "    </tr>\n",
       "    <tr>\n",
       "      <th>0</th>\n",
       "      <td>KIDSDRIV</td>\n",
       "      <td>0.056169</td>\n",
       "    </tr>\n",
       "    <tr>\n",
       "      <th>9</th>\n",
       "      <td>OLDCLAIM</td>\n",
       "      <td>0.052175</td>\n",
       "    </tr>\n",
       "    <tr>\n",
       "      <th>19</th>\n",
       "      <td>CAR_TYPE</td>\n",
       "      <td>0.044261</td>\n",
       "    </tr>\n",
       "    <tr>\n",
       "      <th>14</th>\n",
       "      <td>MSTATUS</td>\n",
       "      <td>0.042249</td>\n",
       "    </tr>\n",
       "    <tr>\n",
       "      <th>17</th>\n",
       "      <td>JOB</td>\n",
       "      <td>0.041747</td>\n",
       "    </tr>\n",
       "    <tr>\n",
       "      <th>5</th>\n",
       "      <td>HOME_VAL</td>\n",
       "      <td>0.034560</td>\n",
       "    </tr>\n",
       "    <tr>\n",
       "      <th>11</th>\n",
       "      <td>MVR_PTS</td>\n",
       "      <td>0.034331</td>\n",
       "    </tr>\n",
       "    <tr>\n",
       "      <th>16</th>\n",
       "      <td>EDUCATION</td>\n",
       "      <td>0.032477</td>\n",
       "    </tr>\n",
       "    <tr>\n",
       "      <th>4</th>\n",
       "      <td>INCOME</td>\n",
       "      <td>0.028121</td>\n",
       "    </tr>\n",
       "    <tr>\n",
       "      <th>15</th>\n",
       "      <td>SEX</td>\n",
       "      <td>0.027614</td>\n",
       "    </tr>\n",
       "    <tr>\n",
       "      <th>1</th>\n",
       "      <td>AGE</td>\n",
       "      <td>0.027334</td>\n",
       "    </tr>\n",
       "    <tr>\n",
       "      <th>7</th>\n",
       "      <td>BLUEBOOK</td>\n",
       "      <td>0.026955</td>\n",
       "    </tr>\n",
       "    <tr>\n",
       "      <th>6</th>\n",
       "      <td>TRAVTIME</td>\n",
       "      <td>0.026642</td>\n",
       "    </tr>\n",
       "    <tr>\n",
       "      <th>8</th>\n",
       "      <td>TIF</td>\n",
       "      <td>0.024914</td>\n",
       "    </tr>\n",
       "    <tr>\n",
       "      <th>10</th>\n",
       "      <td>CLM_FREQ</td>\n",
       "      <td>0.023783</td>\n",
       "    </tr>\n",
       "    <tr>\n",
       "      <th>3</th>\n",
       "      <td>YOJ</td>\n",
       "      <td>0.023658</td>\n",
       "    </tr>\n",
       "    <tr>\n",
       "      <th>2</th>\n",
       "      <td>HOMEKIDS</td>\n",
       "      <td>0.023346</td>\n",
       "    </tr>\n",
       "    <tr>\n",
       "      <th>12</th>\n",
       "      <td>CAR_AGE</td>\n",
       "      <td>0.023340</td>\n",
       "    </tr>\n",
       "    <tr>\n",
       "      <th>20</th>\n",
       "      <td>RED_CAR</td>\n",
       "      <td>0.020034</td>\n",
       "    </tr>\n",
       "  </tbody>\n",
       "</table>\n",
       "</div>"
      ],
      "text/plain": [
       "       feature  importance\n",
       "22  URBANICITY    0.166209\n",
       "13     PARENT1    0.084205\n",
       "21     REVOKED    0.074467\n",
       "18     CAR_USE    0.061411\n",
       "0     KIDSDRIV    0.056169\n",
       "9     OLDCLAIM    0.052175\n",
       "19    CAR_TYPE    0.044261\n",
       "14     MSTATUS    0.042249\n",
       "17         JOB    0.041747\n",
       "5     HOME_VAL    0.034560\n",
       "11     MVR_PTS    0.034331\n",
       "16   EDUCATION    0.032477\n",
       "4       INCOME    0.028121\n",
       "15         SEX    0.027614\n",
       "1          AGE    0.027334\n",
       "7     BLUEBOOK    0.026955\n",
       "6     TRAVTIME    0.026642\n",
       "8          TIF    0.024914\n",
       "10    CLM_FREQ    0.023783\n",
       "3          YOJ    0.023658\n",
       "2     HOMEKIDS    0.023346\n",
       "12     CAR_AGE    0.023340\n",
       "20     RED_CAR    0.020034"
      ]
     },
     "execution_count": 198,
     "metadata": {},
     "output_type": "execute_result"
    }
   ],
   "source": [
    "# Finally, let's take a look at feature importances\n",
    "\n",
    "importance = pd.DataFrame({'feature' : cols ,'importance' : model.named_steps['xgbclassifier'].feature_importances_})\n",
    "importance.sort_values(by='importance',ascending =False)"
   ]
  },
  {
   "cell_type": "markdown",
   "metadata": {},
   "source": [
    "We can see here the **CAR_AGE** variable is not discriminative at all, but **CAR_USE** is, understandably so. It would have been interesting to delve deeper into other explanatory variables, such as **URBANICITY**.\n",
    "\n",
    "We could analyze the dataset further in order to better choose which variables to use for our model, which encoder for the categorical variables, which scaler for the numerical ones (MinMax for instance), and finetune our model parameters, but we will stick with the simple undersampled model for our prediction for the *test_auto* dataset."
   ]
  },
  {
   "cell_type": "markdown",
   "metadata": {},
   "source": [
    "**For our model, we hence choose the model_undersampled to generate the CSV file, in order to predict correctly as many 1s as possible.**"
   ]
  },
  {
   "cell_type": "markdown",
   "metadata": {},
   "source": [
    "### Generating the desired CSV file\n",
    "\n",
    "We use our model to predict the **TARGET_FLAG** variable and create a csv file such as the one given in example."
   ]
  },
  {
   "cell_type": "code",
   "execution_count": 38,
   "metadata": {},
   "outputs": [],
   "source": [
    "## We must first change the 4 columns with values in dollars as we have before\n",
    "for name in ['INCOME', 'HOME_VAL', 'BLUEBOOK', 'OLDCLAIM']:\n",
    "    test_auto[name] = test_auto[name].apply(lambda x: transform_value_to_num(x))"
   ]
  },
  {
   "cell_type": "code",
   "execution_count": 39,
   "metadata": {},
   "outputs": [],
   "source": [
    "predicted_class = model_undersampled.predict(test_auto[cols])\n",
    "\n",
    "output_df = pd.DataFrame(test_auto['INDEX'])\n",
    "\n",
    "output_df['TARGET_FLAG'] = predicted_class"
   ]
  },
  {
   "cell_type": "code",
   "execution_count": 40,
   "metadata": {
    "scrolled": true
   },
   "outputs": [],
   "source": [
    "output_df.to_csv('prediction.csv', index=False) # Generates the CSV file"
   ]
  }
 ],
 "metadata": {
  "kernelspec": {
   "display_name": "Python 3",
   "language": "python",
   "name": "python3"
  },
  "language_info": {
   "codemirror_mode": {
    "name": "ipython",
    "version": 3
   },
   "file_extension": ".py",
   "mimetype": "text/x-python",
   "name": "python",
   "nbconvert_exporter": "python",
   "pygments_lexer": "ipython3",
   "version": "3.8.3"
  }
 },
 "nbformat": 4,
 "nbformat_minor": 4
}
